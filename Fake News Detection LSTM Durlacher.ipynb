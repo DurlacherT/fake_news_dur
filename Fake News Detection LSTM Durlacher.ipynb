{
 "cells": [
  {
   "cell_type": "markdown",
   "metadata": {},
   "source": [
    "# Introduction"
   ]
  },
  {
   "cell_type": "markdown",
   "metadata": {},
   "source": [
    "## Topic\n",
    "\n",
    "In the age of information, the proliferation of fake news has become a significant societal challenge. Machine learning, with its ability to analyze vast amounts of data and recognize intricate patterns, has emerged as a powerful tool for detecting fake news. The process of fake news detection involves leveraging various techniques to distinguish between genuine and fabricated information. One fundamental approach to fake news detection involves feature engineering, where relevant characteristics of the text are extracted to train machine learning models. Features can include linguistic cues, such as the frequency of certain words, sentiment analysis, and syntactic structures. Additionally, metadata, like the source of the news and the publication date, can provide valuable context for model training. Supervised learning techniques are commonly employed in fake news detection. These models are trained on labeled datasets, where each piece of news is annotated as real or fake. Classification algorithms, such as Support Vector Machines (SVM), Random Forests, or more advanced methods like deep neural networks, learn to distinguish patterns in the data and make predictions on the authenticity of unseen news articles. Natural Language Processing (NLP) plays a pivotal role in fake news detection. NLP techniques enable machines to understand and interpret human language, facilitating the extraction of meaningful features for analysis. Sentiment analysis, topic modeling, and semantic analysis contribute to a nuanced understanding of the text, aiding in the identification of deceptive patterns. Unsupervised learning approaches are also explored, especially in scenarios where labeled data is scarce. Clustering techniques, anomaly detection, and network analysis can uncover patterns that deviate from the norm, signaling potential instances of fake news. However, the challenge lies in defining what constitutes a 'normal' pattern, and these methods may require fine-tuning to achieve optimal performance. The evolution of fake news tactics necessitates adaptive models. Transfer learning, where models pretrained on large datasets are fine-tuned for fake news detection, proves effective in learning generalized features. This enables the model to discern subtle patterns and adapt to emerging trends in deceptive information. Ensuring the robustness and ethical deployment of fake news detection models is paramount. Addressing issues of bias, interpretability, and transparency in machine learning models is an ongoing area of research. Striking a balance between accuracy and avoiding censorship of legitimate content remains a challenge, underscoring the interdisciplinary nature of fake news detection, which involves not only machine learning but also considerations from the fields of journalism, ethics, and information studies.\n",
    "\n",
    "### Objective\n",
    "\n",
    "The goal of this project is to develop a machine learning model capable of detecting fake news articles based on their title by leveraging the power of Long Short-Term Memory (LSTM) networks.\n",
    "\n",
    "### Dataset\n",
    "\n",
    "A labeled dataset consisting of both fake and real news articles was collected for training and evaluation. The dataset is preprocessed to clean and transform the text data into a format suitable for training the LSTM model.\n",
    "Dataset source: https://onlineacademiccommunity.uvic.ca/isot/2022/11/27/fake-news-detection-datasets/\n",
    "University of Victoria\n",
    "Fake news collected from Reuters and GossipCop\n",
    "The fake news articles were collected from unreliable websites that were flagged by Politifact (a fact-checking organization in the USA) and Wikipedia. The dataset contains different types of articles on different topics, however, the majority of articles focus on political and World news topics.The dataset (Fake.csv and True.csv) should be in the same directory as the notebook!\n",
    ".\n",
    "\n",
    "\n",
    "### Data Preprocessing\n",
    "\n",
    "Text data preprocessing involves converting text to lowercase, removing special characters, numbers, and punctuation, tokenization, and padding to ensure uniform input sizes for the LSTM model.\n",
    "\n",
    "### Model Architecture\n",
    "\n",
    "The LSTM model architecture is designed to capture sequential dependencies and long-term patterns in the text. It includes an Embedding layer for word representation, LSTM layers for sequential processing, and an output layer with a sigmoid activation function for binary classification.\n",
    "\n",
    "Long Short-Term Memory (LSTM) networks stand out as a crucial advancement in the realm of recurrent neural networks (RNNs), introduced by Sepp Hochreiter and Jürgen Schmidhuber in 1997. LSTMs are specifically engineered to tackle the challenge of learning long-term dependencies in sequential data, a task that conventional neural networks often struggle with due to their limited ability to retain information over extended sequences.\n",
    "At the core of LSTM architecture are memory cells, functioning as reservoirs for storing information over time. These cells play a pivotal role in capturing and preserving long-term dependencies in sequential data. The architectural innovation lies in the incorporation of gates, namely the input gate, forget gate, and output gate, which collectively enable the network to regulate the flow of information.\n",
    "The input gate governs the selection of information from the current input to be stored in the memory cell. Simultaneously, the forget gate manages the removal of unnecessary or outdated information from the memory cell. This dynamic control over information flow allows LSTMs to selectively retain relevant details over extended sequences. The third component, the output gate, decides which parts of the memory cell should contribute to the output at a given time step. This output, in the form of a hidden state, encapsulates a condensed representation of the information contained in the memory cell.\n",
    "The LSTM process unfolds iteratively at each time step of a sequence. The network takes an input, receives the hidden state and cell state from the preceding time step, and processes the input through the input gate. The cell state, akin to a conveyor belt, transports information across various time steps, facilitating the network's ability to capture and remember crucial details over long sequences. The hidden state derived from the output gate is then employed for making predictions or transmitted to subsequent LSTM units in the sequence\n",
    "\n",
    "### Training the Model\n",
    "\n",
    "The LSTM model is trained on the labeled dataset using appropriate loss functions, optimizers, and evaluation metrics (e.g., accuracy). During training, the model learns to distinguish between fake and real news based on the provided features.\n",
    "\n",
    "### Evaluation\n",
    "\n",
    "The trained model is evaluated on a separate validation set to assess its generalization performance. Metrics such as accuracy, and precision are considered to gauge the model's effectiveness in distinguishing between fake and real news.\n",
    "\n",
    "### Prediction and Thresholding\n",
    "\n",
    "Once trained, the model is used to predict the authenticity of new news articles. Predictions are made by feeding preprocessed text through the model, and a threshold is applied to classify articles as fake or real based on the predicted probabilities.\n",
    "\n",
    "## Deployment\n",
    "\n",
    "Because this is a student project the final trained model is not deployed in a production environment."
   ]
  },
  {
   "cell_type": "markdown",
   "metadata": {
    "id": "IvxSOqisc_EP"
   },
   "source": [
    "# Import libraries"
   ]
  },
  {
   "cell_type": "code",
   "execution_count": 1,
   "metadata": {
    "ExecuteTime": {
     "end_time": "2023-11-27T17:36:03.650659500Z",
     "start_time": "2023-11-27T17:36:03.648147700Z"
    },
    "colab": {
     "base_uri": "https://localhost:8080/"
    },
    "executionInfo": {
     "elapsed": 518,
     "status": "ok",
     "timestamp": 1700997485281,
     "user": {
      "displayName": "Thomas Durlacher",
      "userId": "14590206385638367679"
     },
     "user_tz": -60
    },
    "id": "zM3LpI-OTmYg",
    "outputId": "103fe853-9e69-43cb-8d49-5d7cb045c9ab"
   },
   "outputs": [
    {
     "name": "stdout",
     "output_type": "stream",
     "text": [
      "WARNING:tensorflow:From C:\\Users\\thoma\\anaconda3\\Lib\\site-packages\\keras\\src\\losses.py:2976: The name tf.losses.sparse_softmax_cross_entropy is deprecated. Please use tf.compat.v1.losses.sparse_softmax_cross_entropy instead.\n"
     ]
    }
   ],
   "source": [
    "import numpy as np\n",
    "import pandas as pd\n",
    "import tensorflow as tf\n",
    "import nltk\n",
    "import re\n",
    "import zipfile\n",
    "import matplotlib.pyplot as plt\n",
    "import seaborn as sns\n",
    "from nltk.tokenize import word_tokenize\n",
    "from nltk.probability import FreqDist\n"
   ]
  },
  {
   "cell_type": "markdown",
   "metadata": {},
   "source": [
    "Additionally, use NLTK language resources, such as corpora, lexical resources, grammars, etc., to support its functionalities. These resources are essential for tasks like text processing, analysis, and natural language understanding.\n",
    "\n",
    "Corpora: Corpora are large bodies of text used for linguistic research and analysis. NLTK includes various corpora for different languages and domains. In your code, you are downloading and extracting WordNet, which is a lexical database of the English language.\n",
    "\n",
    "Punkt: Punkt is a pre-trained unsupervised machine learning model for tokenizing sentences. It helps NLTK to accurately split text into sentences.\n",
    "\n",
    "WordNet: WordNet is a lexical database of the English language that relates words to one another in terms of synonyms, hypernyms, hyponyms, and more. It is a valuable resource for tasks such as word sense disambiguation and semantic analysis.\n",
    "\n",
    "Stopwords: NLTK includes a list of common stop words for different languages. Stop words are frequently used words (e.g., \"the,\" \"is,\" \"and\") that are often removed from text during natural language processing tasks because they typically don't carry significant meaning."
   ]
  },
  {
   "cell_type": "code",
   "execution_count": 2,
   "metadata": {
    "ExecuteTime": {
     "end_time": "2023-11-27T17:36:06.346702500Z",
     "start_time": "2023-11-27T17:36:06.211677Z"
    },
    "scrolled": true
   },
   "outputs": [
    {
     "name": "stderr",
     "output_type": "stream",
     "text": [
      "[nltk_data] Downloading package punkt to /kaggle/working/...\n",
      "[nltk_data]   Package punkt is already up-to-date!\n",
      "[nltk_data] Downloading package wordnet to /kaggle/working/...\n",
      "[nltk_data]   Package wordnet is already up-to-date!\n",
      "[nltk_data] Downloading package stopwords to /kaggle/working/...\n",
      "[nltk_data]   Package stopwords is already up-to-date!\n"
     ]
    }
   ],
   "source": [
    "\n",
    "nltk.download('punkt',download_dir=\"/kaggle/working/\")\n",
    "nltk.download('wordnet',download_dir=\"/kaggle/working/\")\n",
    "nltk.download('stopwords',download_dir=\"/kaggle/working/\")\n",
    "nltk.data.path.append('/kaggle/working/')\n",
    "\n",
    "with zipfile.ZipFile(\"/kaggle/working/corpora/wordnet.zip\", 'r') as zip_f:\n",
    "    zip_f.extractall(\"/kaggle/working/corpora/\")\n"
   ]
  },
  {
   "cell_type": "markdown",
   "metadata": {
    "id": "dKfpf4b5c9tO"
   },
   "source": []
  },
  {
   "cell_type": "markdown",
   "metadata": {
    "id": "7x5JEoUmW_5a"
   },
   "source": [
    "# Import Dataset"
   ]
  },
  {
   "cell_type": "markdown",
   "metadata": {},
   "source": [
    "First I load the dataset from local FakeNewsNet.csv file. The dropna method is used to remove any rows with missing values (NaN) from the DataFrame. The inplace=True parameter modifies the original DataFrame in place, meaning that the changes are applied directly to the df DataFrame. reset_index resets the index of the DataFrame after dropping rows with missing values. The inplace=True parameter again modifies the DataFrame in place.\n",
    "Here, the drop method is used to remove specific columns from the DataFrame. The columns to be dropped are specified in a list ([\"index\",\"news_url\",\"source_domain\",\"tweet_num\"]). The axis=1 parameter indicates that these are columns (not rows), and inplace=True ensures that the changes are applied directly to the DataFrame.\n",
    "\n"
   ]
  },
  {
   "cell_type": "code",
   "execution_count": 3,
   "metadata": {},
   "outputs": [
    {
     "data": {
      "text/html": [
       "<div>\n",
       "<style scoped>\n",
       "    .dataframe tbody tr th:only-of-type {\n",
       "        vertical-align: middle;\n",
       "    }\n",
       "\n",
       "    .dataframe tbody tr th {\n",
       "        vertical-align: top;\n",
       "    }\n",
       "\n",
       "    .dataframe thead th {\n",
       "        text-align: right;\n",
       "    }\n",
       "</style>\n",
       "<table border=\"1\" class=\"dataframe\">\n",
       "  <thead>\n",
       "    <tr style=\"text-align: right;\">\n",
       "      <th></th>\n",
       "      <th>title</th>\n",
       "      <th>text</th>\n",
       "      <th>subject</th>\n",
       "      <th>date</th>\n",
       "      <th>real</th>\n",
       "      <th>text_title_combined</th>\n",
       "    </tr>\n",
       "  </thead>\n",
       "  <tbody>\n",
       "    <tr>\n",
       "      <th>0</th>\n",
       "      <td>Ben Stein Calls Out 9th Circuit Court: Committ...</td>\n",
       "      <td>21st Century Wire says Ben Stein, reputable pr...</td>\n",
       "      <td>US_News</td>\n",
       "      <td>February 13, 2017</td>\n",
       "      <td>0</td>\n",
       "      <td>Ben Stein Calls Out 9th Circuit Court: Committ...</td>\n",
       "    </tr>\n",
       "    <tr>\n",
       "      <th>1</th>\n",
       "      <td>Trump drops Steve Bannon from National Securit...</td>\n",
       "      <td>WASHINGTON (Reuters) - U.S. President Donald T...</td>\n",
       "      <td>politicsNews</td>\n",
       "      <td>April 5, 2017</td>\n",
       "      <td>1</td>\n",
       "      <td>Trump drops Steve Bannon from National Securit...</td>\n",
       "    </tr>\n",
       "    <tr>\n",
       "      <th>2</th>\n",
       "      <td>Puerto Rico expects U.S. to lift Jones Act shi...</td>\n",
       "      <td>(Reuters) - Puerto Rico Governor Ricardo Rosse...</td>\n",
       "      <td>politicsNews</td>\n",
       "      <td>September 27, 2017</td>\n",
       "      <td>1</td>\n",
       "      <td>Puerto Rico expects U.S. to lift Jones Act shi...</td>\n",
       "    </tr>\n",
       "    <tr>\n",
       "      <th>3</th>\n",
       "      <td>OOPS: Trump Just Accidentally Confirmed He Le...</td>\n",
       "      <td>On Monday, Donald Trump once again embarrassed...</td>\n",
       "      <td>News</td>\n",
       "      <td>May 22, 2017</td>\n",
       "      <td>0</td>\n",
       "      <td>OOPS: Trump Just Accidentally Confirmed He Le...</td>\n",
       "    </tr>\n",
       "    <tr>\n",
       "      <th>4</th>\n",
       "      <td>Donald Trump heads for Scotland to reopen a go...</td>\n",
       "      <td>GLASGOW, Scotland (Reuters) - Most U.S. presid...</td>\n",
       "      <td>politicsNews</td>\n",
       "      <td>June 24, 2016</td>\n",
       "      <td>1</td>\n",
       "      <td>Donald Trump heads for Scotland to reopen a go...</td>\n",
       "    </tr>\n",
       "    <tr>\n",
       "      <th>5</th>\n",
       "      <td>Paul Ryan Responds To Dem’s Sit-In On Gun Con...</td>\n",
       "      <td>On Wednesday, Democrats took a powerful stance...</td>\n",
       "      <td>News</td>\n",
       "      <td>June 22, 2016</td>\n",
       "      <td>0</td>\n",
       "      <td>Paul Ryan Responds To Dem’s Sit-In On Gun Con...</td>\n",
       "    </tr>\n",
       "    <tr>\n",
       "      <th>6</th>\n",
       "      <td>AWESOME! DIAMOND AND SILK Rip Into The Press: ...</td>\n",
       "      <td>President Trump s rally in FL on Saturday was ...</td>\n",
       "      <td>Government News</td>\n",
       "      <td>Feb 19, 2017</td>\n",
       "      <td>0</td>\n",
       "      <td>AWESOME! DIAMOND AND SILK Rip Into The Press: ...</td>\n",
       "    </tr>\n",
       "    <tr>\n",
       "      <th>7</th>\n",
       "      <td>STAND UP AND CHEER! UKIP Party Leader SLAMS Ge...</td>\n",
       "      <td>He s been Europe s version of the outspoken Te...</td>\n",
       "      <td>left-news</td>\n",
       "      <td>Mar 8, 2016</td>\n",
       "      <td>0</td>\n",
       "      <td>STAND UP AND CHEER! UKIP Party Leader SLAMS Ge...</td>\n",
       "    </tr>\n",
       "    <tr>\n",
       "      <th>8</th>\n",
       "      <td>North Korea shows no sign it is serious about ...</td>\n",
       "      <td>WASHINGTON (Reuters) - The State Department sa...</td>\n",
       "      <td>worldnews</td>\n",
       "      <td>December 13, 2017</td>\n",
       "      <td>1</td>\n",
       "      <td>North Korea shows no sign it is serious about ...</td>\n",
       "    </tr>\n",
       "    <tr>\n",
       "      <th>9</th>\n",
       "      <td>Trump signals willingness to raise U.S. minimu...</td>\n",
       "      <td>(This version of the story corrects the figur...</td>\n",
       "      <td>politicsNews</td>\n",
       "      <td>May 4, 2016</td>\n",
       "      <td>1</td>\n",
       "      <td>Trump signals willingness to raise U.S. minimu...</td>\n",
       "    </tr>\n",
       "    <tr>\n",
       "      <th>10</th>\n",
       "      <td>New Jersey's Christie mulls run to lead Republ...</td>\n",
       "      <td>WASHINGTON (Reuters) - New Jersey Governor Chr...</td>\n",
       "      <td>politicsNews</td>\n",
       "      <td>December 1, 2016</td>\n",
       "      <td>1</td>\n",
       "      <td>New Jersey's Christie mulls run to lead Republ...</td>\n",
       "    </tr>\n",
       "  </tbody>\n",
       "</table>\n",
       "</div>"
      ],
      "text/plain": [
       "                                                title  \\\n",
       "0   Ben Stein Calls Out 9th Circuit Court: Committ...   \n",
       "1   Trump drops Steve Bannon from National Securit...   \n",
       "2   Puerto Rico expects U.S. to lift Jones Act shi...   \n",
       "3    OOPS: Trump Just Accidentally Confirmed He Le...   \n",
       "4   Donald Trump heads for Scotland to reopen a go...   \n",
       "5    Paul Ryan Responds To Dem’s Sit-In On Gun Con...   \n",
       "6   AWESOME! DIAMOND AND SILK Rip Into The Press: ...   \n",
       "7   STAND UP AND CHEER! UKIP Party Leader SLAMS Ge...   \n",
       "8   North Korea shows no sign it is serious about ...   \n",
       "9   Trump signals willingness to raise U.S. minimu...   \n",
       "10  New Jersey's Christie mulls run to lead Republ...   \n",
       "\n",
       "                                                 text          subject  \\\n",
       "0   21st Century Wire says Ben Stein, reputable pr...          US_News   \n",
       "1   WASHINGTON (Reuters) - U.S. President Donald T...     politicsNews   \n",
       "2   (Reuters) - Puerto Rico Governor Ricardo Rosse...     politicsNews   \n",
       "3   On Monday, Donald Trump once again embarrassed...             News   \n",
       "4   GLASGOW, Scotland (Reuters) - Most U.S. presid...     politicsNews   \n",
       "5   On Wednesday, Democrats took a powerful stance...             News   \n",
       "6   President Trump s rally in FL on Saturday was ...  Government News   \n",
       "7   He s been Europe s version of the outspoken Te...        left-news   \n",
       "8   WASHINGTON (Reuters) - The State Department sa...        worldnews   \n",
       "9    (This version of the story corrects the figur...     politicsNews   \n",
       "10  WASHINGTON (Reuters) - New Jersey Governor Chr...     politicsNews   \n",
       "\n",
       "                   date  real  \\\n",
       "0     February 13, 2017     0   \n",
       "1        April 5, 2017      1   \n",
       "2   September 27, 2017      1   \n",
       "3          May 22, 2017     0   \n",
       "4        June 24, 2016      1   \n",
       "5         June 22, 2016     0   \n",
       "6          Feb 19, 2017     0   \n",
       "7           Mar 8, 2016     0   \n",
       "8    December 13, 2017      1   \n",
       "9          May 4, 2016      1   \n",
       "10    December 1, 2016      1   \n",
       "\n",
       "                                  text_title_combined  \n",
       "0   Ben Stein Calls Out 9th Circuit Court: Committ...  \n",
       "1   Trump drops Steve Bannon from National Securit...  \n",
       "2   Puerto Rico expects U.S. to lift Jones Act shi...  \n",
       "3    OOPS: Trump Just Accidentally Confirmed He Le...  \n",
       "4   Donald Trump heads for Scotland to reopen a go...  \n",
       "5    Paul Ryan Responds To Dem’s Sit-In On Gun Con...  \n",
       "6   AWESOME! DIAMOND AND SILK Rip Into The Press: ...  \n",
       "7   STAND UP AND CHEER! UKIP Party Leader SLAMS Ge...  \n",
       "8   North Korea shows no sign it is serious about ...  \n",
       "9   Trump signals willingness to raise U.S. minimu...  \n",
       "10  New Jersey's Christie mulls run to lead Republ...  "
      ]
     },
     "execution_count": 3,
     "metadata": {},
     "output_type": "execute_result"
    }
   ],
   "source": [
    "import pandas as pd\n",
    "\n",
    "# Load Fake.csv and add a 'real' column with values 0\n",
    "fake_df = pd.read_csv('Fake.csv')\n",
    "fake_df['real'] = 0\n",
    "\n",
    "# Load True.csv and add a 'real' column with values 1\n",
    "true_df = pd.read_csv('True.csv')\n",
    "true_df['real'] = 1\n",
    "\n",
    "# Combine the two datasets\n",
    "combined_df = pd.concat([fake_df, true_df], ignore_index=True)\n",
    "\n",
    "# Shuffle or mix the rows\n",
    "combined_df_shuffled = combined_df.sample(frac=1, random_state=42).reset_index(drop=True)\n",
    "\n",
    "# Combine 'text' and 'title' columns and create a new column 'text_title_combined'\n",
    "combined_df_shuffled['text_title_combined'] = combined_df_shuffled['title'].astype(str) + ' ' + combined_df_shuffled['text'].astype(str)\n",
    "\n",
    "# Save the shuffled and combined dataset to combined_shuffled_with_text_title.csv\n",
    "combined_df_shuffled.to_csv('combined.csv', index=False)\n",
    "\n",
    "combined_df_shuffled.head(11)"
   ]
  },
  {
   "cell_type": "code",
   "execution_count": 5,
   "metadata": {
    "ExecuteTime": {
     "end_time": "2023-11-27T17:34:20.585937800Z",
     "start_time": "2023-11-27T17:34:20.488139900Z"
    }
   },
   "outputs": [
    {
     "data": {
      "image/png": "[encoded data removed]",
      "text/plain": [
       "<Figure size 500x500 with 1 Axes>"
      ]
     },
     "metadata": {},
     "output_type": "display_data"
    }
   ],
   "source": [
    "df = pd.read_csv(\"combined.csv\")\n",
    "df.head(11)\n",
    "\n",
    "df.dropna(inplace=True)\n",
    "df.reset_index(inplace=True)\n",
    "df.drop([\"title\",\"text\",\"subject\",\"date\"],axis=1,inplace=True)\n",
    "# Plot a pie chart\n",
    "plt.figure(figsize=(5, 5))  # Set the size of the figure\n",
    "df['real'].value_counts().plot.pie(autopct='%1.1f%%', startangle=90, explode=[0, 0.1])\n",
    "plt.title('Distribution of \"real\" values')\n",
    "plt.savefig('distribution.png')\n",
    "plt.show()\n"
   ]
  },
  {
   "cell_type": "code",
   "execution_count": 6,
   "metadata": {
    "ExecuteTime": {
     "end_time": "2023-11-27T17:35:23.520266500Z",
     "start_time": "2023-11-27T17:35:22.600814300Z"
    }
   },
   "outputs": [],
   "source": [
    "# Alternative dataset - similar results\n",
    "\n",
    "#dfa = pd.read_csv(\"FakeNewsNet.csv\")\n",
    "#dfa.dropna(inplace=True)\n",
    "\n",
    "#dfa['titletext'] = dfa.title + \"_\" + dfa.text\n",
    "#dfa.drop([\"id\", \"title\",\"text\",\"author\"],axis=1,inplace=True)\n",
    "#dfa.rename(columns={'titletext': 'title'}, inplace=True)\n",
    "#dfa.rename(columns={'label': 'real'}, inplace=True)\n",
    "\n",
    "#dfa.head(10)\n",
    "\n",
    "#plt.figure(figsize=(5, 3))  # Set the size of the figure\n",
    "#sns.countplot(data=dfa, x=\"real\")\n",
    "#plt.show()"
   ]
  },
  {
   "cell_type": "markdown",
   "metadata": {},
   "source": [
    "# Data Preprocessing"
   ]
  },
  {
   "cell_type": "markdown",
   "metadata": {},
   "source": [
    "During the data preprocessing step the textual data from the csv is used to create a numerical representation of the text.  Word2Vec from the Gensim library is then used to train word embeddings."
   ]
  },
  {
   "cell_type": "code",
   "execution_count": 7,
   "metadata": {
    "ExecuteTime": {
     "end_time": "2023-11-27T17:34:21.653092700Z",
     "start_time": "2023-11-27T17:34:21.650083700Z"
    },
    "id": "4g0XDNgpUoT6"
   },
   "outputs": [
    {
     "data": {
      "text/plain": [
       "['i', 'me', 'my', 'myself', 'we', 'our', 'ours', 'ourselves', 'you', \"you're\"]"
      ]
     },
     "execution_count": 7,
     "metadata": {},
     "output_type": "execute_result"
    }
   ],
   "source": [
    "stopwords = nltk.corpus.stopwords.words(\"english\")\n",
    "stopwords[:10]"
   ]
  },
  {
   "cell_type": "markdown",
   "metadata": {},
   "source": [
    "This creates an instance of the WordNetLemmatizer from the nltk library. Lemmatization is a process of reducing words to their base or root form.\n",
    "It applies the lemTitles function to each element in the \"title\" column of the news_data DataFrame. The result is then assigned back to the \"title\" column.\n",
    "Then preprocess the \"title\" column of a DataFrame by tokenizing, cleaning, lemmatizing, and removing stopwords from the text. The lemmatization is performed using the WordNetLemmatizer from the nltk library."
   ]
  },
  {
   "cell_type": "code",
   "execution_count": 8,
   "metadata": {
    "ExecuteTime": {
     "end_time": "2023-11-27T17:34:24.197908800Z",
     "start_time": "2023-11-27T17:34:21.654603300Z"
    },
    "colab": {
     "base_uri": "https://localhost:8080/",
     "height": 206
    },
    "executionInfo": {
     "elapsed": 7002,
     "status": "ok",
     "timestamp": 1700997492833,
     "user": {
      "displayName": "Thomas Durlacher",
      "userId": "14590206385638367679"
     },
     "user_tz": -60
    },
    "id": "tjvI1x8LUqgF",
    "outputId": "23a71268-9200-42a6-a0bc-a1149a26d7d5"
   },
   "outputs": [
    {
     "name": "stdout",
     "output_type": "stream",
     "text": [
      "Most common words:\n",
      "trump: 142945\n",
      "said: 130402\n",
      "u: 68726\n",
      "state: 59842\n",
      "would: 55484\n",
      "president: 54968\n",
      "people: 42039\n",
      "republican: 40007\n",
      "one: 37590\n",
      "year: 34152\n"
     ]
    },
    {
     "data": {
      "image/png": "[encoded data removed]",
      "text/plain": [
       "<Figure size 1200x600 with 1 Axes>"
      ]
     },
     "metadata": {},
     "output_type": "display_data"
    }
   ],
   "source": [
    "lemmatizer = nltk.stem.WordNetLemmatizer()\n",
    "\n",
    "def lemTitles(title):\n",
    "    words = nltk.word_tokenize(title)\n",
    "    words = [re.sub(\"[^a-zA-Z0-9]\",\"\",i).lower().strip() for i in words]\n",
    "    words = [lemmatizer.lemmatize(i) for i in words if i not in stopwords]\n",
    "    title = \" \".join(words)\n",
    "    return title\n",
    "\n",
    "df[\"title\"] = df[\"text_title_combined\"].apply(lemTitles)\n",
    "df.head()\n",
    "\n",
    "dfplot = df\n",
    "text_data = ' '.join(dfplot['title'].dropna())\n",
    "# Tokenize the text into words\n",
    "tokens = word_tokenize(text_data)\n",
    "\n",
    "# Calculate word frequencies\n",
    "fdist = FreqDist(tokens)\n",
    "\n",
    "# Display the most common words\n",
    "print(\"Most common words:\")\n",
    "for word, frequency in fdist.most_common(10):\n",
    "    print(f\"{word}: {frequency}\")\n",
    "\n",
    "# Plot a bar chart of word frequencies\n",
    "plt.figure(figsize=(12, 6))\n",
    "common_words = fdist.most_common(30)\n",
    "words, frequencies = zip(*common_words)\n",
    "plt.bar(words, frequencies, color='skyblue')\n",
    "plt.title(f\"Top 30 Words in 'title+text'\")\n",
    "plt.xlabel(\"Words\")\n",
    "plt.ylabel(\"Frequency\")\n",
    "plt.xticks(rotation=45, ha='right')\n",
    "plt.show()"
   ]
  },
  {
   "cell_type": "code",
   "execution_count": 9,
   "metadata": {
    "ExecuteTime": {
     "end_time": "2023-11-27T17:34:24.198919100Z",
     "start_time": "2023-11-27T17:34:24.195891100Z"
    },
    "id": "1PEtKzy_UtLi"
   },
   "outputs": [],
   "source": [
    "VOCAB_SIZE = 10000\n",
    "DIMENSION = 10\n",
    "MAXLEN = 20"
   ]
  },
  {
   "cell_type": "code",
   "execution_count": null,
   "metadata": {
    "ExecuteTime": {
     "end_time": "2023-11-27T17:34:24.808790400Z",
     "start_time": "2023-11-27T17:34:24.198919100Z"
    }
   },
   "outputs": [],
   "source": [
    "y = df[\"real\"].values\n",
    "X = []\n",
    "stop_words = set(nltk.corpus.stopwords.words(\"english\"))\n",
    "tokenizer = nltk.tokenize.RegexpTokenizer(r'\\w+')\n",
    "for par in df[\"title\"].values:\n",
    "    tmp = []\n",
    "    sentences = nltk.sent_tokenize(par)\n",
    "    for sent in sentences:\n",
    "        sent = sent.lower()\n",
    "        tokens = tokenizer.tokenize(sent)\n",
    "        filtered_words = [w.strip() for w in tokens if w not in stop_words and len(w) > 1]\n",
    "        tmp.extend(filtered_words)\n",
    "    X.append(tmp)\n",
    "\n",
    "import gensim\n",
    "EMBEDDING_DIM = 10\n",
    "\n",
    "w2v_model = gensim.models.Word2Vec(sentences=X, vector_size=EMBEDDING_DIM, window=5, min_count=1)"
   ]
  },
  {
   "cell_type": "code",
   "execution_count": null,
   "metadata": {
    "ExecuteTime": {
     "end_time": "2023-11-27T17:34:24.892033600Z",
     "start_time": "2023-11-27T17:34:24.832136100Z"
    }
   },
   "outputs": [],
   "source": [
    "from tensorflow.keras.preprocessing.text import Tokenizer\n",
    "\n",
    "tokenizer = Tokenizer()\n",
    "tokenizer.fit_on_texts(X)\n",
    "\n",
    "word_index = tokenizer.word_index\n",
    "print(len(word_index))"
   ]
  },
  {
   "cell_type": "code",
   "execution_count": null,
   "metadata": {
    "ExecuteTime": {
     "end_time": "2023-11-27T17:34:24.893036900Z",
     "start_time": "2023-11-27T17:34:24.888345600Z"
    }
   },
   "outputs": [],
   "source": [
    "w2v_model.wv[\"computer\"]\n"
   ]
  },
  {
   "cell_type": "code",
   "execution_count": null,
   "metadata": {
    "ExecuteTime": {
     "end_time": "2023-11-27T17:34:24.906724Z",
     "start_time": "2023-11-27T17:34:24.894037200Z"
    }
   },
   "outputs": [],
   "source": [
    "w2v_model.wv.most_similar(\"computer\")\n"
   ]
  },
  {
   "cell_type": "code",
   "execution_count": null,
   "metadata": {
    "ExecuteTime": {
     "end_time": "2023-11-27T17:34:25.018431500Z",
     "start_time": "2023-11-27T17:34:24.903724700Z"
    },
    "id": "8KhA0Wo9Uu10"
   },
   "outputs": [],
   "source": [
    "def oneHot(title):\n",
    "    return tf.keras.preprocessing.text.one_hot(title,VOCAB_SIZE)\n",
    "\n",
    "df[\"title\"] = df[\"title\"].apply(oneHot)"
   ]
  },
  {
   "cell_type": "markdown",
   "metadata": {},
   "source": [
    "For each word in the input text, the one_hot function assigns a unique integer between 0 and VOCAB_SIZE-1.\n",
    "The result is a list of integers, where the length of the list is equal to the number of words in the input text."
   ]
  },
  {
   "cell_type": "code",
   "execution_count": null,
   "metadata": {
    "ExecuteTime": {
     "end_time": "2023-11-27T17:34:25.025854Z",
     "start_time": "2023-11-27T17:34:25.018431500Z"
    },
    "colab": {
     "base_uri": "https://localhost:8080/",
     "height": 206
    },
    "executionInfo": {
     "elapsed": 6,
     "status": "ok",
     "timestamp": 1700997493219,
     "user": {
      "displayName": "Thomas Durlacher",
      "userId": "14590206385638367679"
     },
     "user_tz": -60
    },
    "id": "COg4h_miUwot",
    "outputId": "663d3d58-94f3-4f13-a2fa-caec95a518cb"
   },
   "outputs": [],
   "source": [
    "df.head(100)\n"
   ]
  },
  {
   "cell_type": "code",
   "execution_count": null,
   "metadata": {
    "ExecuteTime": {
     "end_time": "2023-11-27T17:34:25.032214900Z",
     "start_time": "2023-11-27T17:34:25.025854Z"
    },
    "colab": {
     "base_uri": "https://localhost:8080/"
    },
    "executionInfo": {
     "elapsed": 6,
     "status": "ok",
     "timestamp": 1700997493219,
     "user": {
      "displayName": "Thomas Durlacher",
      "userId": "14590206385638367679"
     },
     "user_tz": -60
    },
    "id": "GEbzmTgrUySM",
    "outputId": "4a831dec-f78d-4fda-8b32-675ed0d688f3"
   },
   "outputs": [],
   "source": [
    "df.shape"
   ]
  },
  {
   "cell_type": "code",
   "execution_count": null,
   "metadata": {
    "ExecuteTime": {
     "end_time": "2023-11-27T17:34:25.113091Z",
     "start_time": "2023-11-27T17:34:25.032214900Z"
    },
    "colab": {
     "base_uri": "https://localhost:8080/"
    },
    "executionInfo": {
     "elapsed": 5,
     "status": "ok",
     "timestamp": 1700997493219,
     "user": {
      "displayName": "Thomas Durlacher",
      "userId": "14590206385638367679"
     },
     "user_tz": -60
    },
    "id": "AJ4GslS4U0z2",
    "outputId": "b2ade236-b7db-4db2-9458-758694c57b20"
   },
   "outputs": [],
   "source": [
    "data = pd.DataFrame(tf.keras.utils.pad_sequences(df[\"title\"],padding=\"pre\",maxlen=MAXLEN))\n",
    "data.shape"
   ]
  },
  {
   "cell_type": "code",
   "execution_count": null,
   "metadata": {
    "ExecuteTime": {
     "end_time": "2023-11-27T17:34:25.124092200Z",
     "start_time": "2023-11-27T17:34:25.065300400Z"
    },
    "colab": {
     "base_uri": "https://localhost:8080/"
    },
    "executionInfo": {
     "elapsed": 4,
     "status": "ok",
     "timestamp": 1700997493219,
     "user": {
      "displayName": "Thomas Durlacher",
      "userId": "14590206385638367679"
     },
     "user_tz": -60
    },
    "id": "uBJoTYEgU2K8",
    "outputId": "251bcf37-e009-4b69-9ce9-62c4ce8235f6"
   },
   "outputs": [],
   "source": [
    "df = pd.concat((df,data),axis=1)\n",
    "df.shape"
   ]
  },
  {
   "cell_type": "code",
   "execution_count": null,
   "metadata": {
    "ExecuteTime": {
     "end_time": "2023-11-27T17:34:25.128091400Z",
     "start_time": "2023-11-27T17:34:25.069303600Z"
    },
    "colab": {
     "base_uri": "https://localhost:8080/",
     "height": 1000
    },
    "executionInfo": {
     "elapsed": 4,
     "status": "ok",
     "timestamp": 1700997493219,
     "user": {
      "displayName": "Thomas Durlacher",
      "userId": "14590206385638367679"
     },
     "user_tz": -60
    },
    "id": "bBpBkvKDU2IT",
    "outputId": "1c94dd1a-e4d5-417a-e308-58727c1320f4"
   },
   "outputs": [],
   "source": [
    "df.head(10)"
   ]
  },
  {
   "cell_type": "markdown",
   "metadata": {},
   "source": [
    "# Modeling"
   ]
  },
  {
   "cell_type": "markdown",
   "metadata": {},
   "source": [
    " I used the scikit-learn library to split a dataset into training and testing sets. Additionally, a set of columns (cols) is used to define features for the machine learning model."
   ]
  },
  {
   "cell_type": "code",
   "execution_count": null,
   "metadata": {
    "ExecuteTime": {
     "end_time": "2023-11-27T17:34:25.128091400Z",
     "start_time": "2023-11-27T17:34:25.082056800Z"
    },
    "id": "D3esj53WU2Fi"
   },
   "outputs": [],
   "source": [
    "from sklearn.model_selection import train_test_split\n",
    "from sklearn.metrics import accuracy_score,roc_auc_score,precision_score, confusion_matrix\n",
    "\n",
    "cols = [i for i in range(0,20)]\n",
    "seed = np.random.seed(6)\n",
    "\n",
    "X = df[cols]\n",
    "y = df[\"real\"]\n",
    "\n",
    "X_train, X_test, y_train, y_test = train_test_split(X,y, test_size=0.25,random_state=seed)"
   ]
  },
  {
   "cell_type": "markdown",
   "metadata": {},
   "source": [
    "This line initializes a sequential model, which is a linear stack of layers.\n",
    "This line adds an Embedding layer to the model. This layer is often used in natural language processing tasks to map words to dense vectors of fixed size. The parameters are as follows:\n",
    "\n",
    "VOCAB_SIZE: The size of the vocabulary, which is the number of unique words in the dataset.\n",
    "DIMENSION: The dimensionality of the embedding vectors.\n",
    "input_length: The length of the input sequences, which is set to the number of columns (len(cols)) in the feature set.\n",
    "This line adds a Bidirectional LSTM layer with 128 units. Bidirectional LSTMs process the input sequences from both forward and backward directions, which can capture contextual information effectively. The return_sequences=True parameter means that the layer returns the full sequence of outputs for each input sequence.\n",
    "\n",
    "This line adds a Dropout layer, which helps prevent overfitting by randomly setting a fraction of input units to zero during training.\n",
    "\n",
    "The compile method configures the model for training. It specifies the optimizer, loss function, and metrics to be used during training. Here, the Adam optimizer is used, binary crossentropy is chosen as the loss function for binary classification, and accuracy is chosen as the evaluation metric.\n",
    "\n"
   ]
  },
  {
   "cell_type": "code",
   "execution_count": null,
   "metadata": {
    "ExecuteTime": {
     "end_time": "2023-11-27T17:34:25.128091400Z",
     "start_time": "2023-11-27T17:34:25.089372400Z"
    }
   },
   "outputs": [],
   "source": [
    "def get_weight_matrix(model, vocab):\n",
    "    vocab_size = len(vocab) + 1\n",
    "    weight_matrix = np.zeros((vocab_size, EMBEDDING_DIM))\n",
    "    for word, i in vocab.items():\n",
    "        weight_matrix[i] = model[word]\n",
    "    return weight_matrix"
   ]
  },
  {
   "cell_type": "code",
   "execution_count": null,
   "metadata": {
    "ExecuteTime": {
     "end_time": "2023-11-27T17:34:25.575187400Z",
     "start_time": "2023-11-27T17:34:25.092721100Z"
    },
    "colab": {
     "base_uri": "https://localhost:8080/"
    },
    "executionInfo": {
     "elapsed": 1494,
     "status": "ok",
     "timestamp": 1700997494710,
     "user": {
      "displayName": "Thomas Durlacher",
      "userId": "14590206385638367679"
     },
     "user_tz": -60
    },
    "id": "xz2kgPvMU2Cg",
    "outputId": "c14009bc-9754-4825-a566-6722ff4c2de5"
   },
   "outputs": [],
   "source": [
    "from tensorflow.keras.models import Sequential\n",
    "from tensorflow.keras.layers import Embedding, Bidirectional, LSTM, Dropout, Dense\n",
    "\n",
    "model = Sequential()\n",
    "\n",
    "# Embedding layer with pretrained word vectors\n",
    "embedding_vectors = get_weight_matrix(w2v_model.wv, word_index)\n",
    "model.add(Embedding(\n",
    "    input_dim=len(embedding_vectors),\n",
    "    output_dim=DIMENSION,\n",
    "    weights=[embedding_vectors],\n",
    "    input_length=MAXLEN,\n",
    "    trainable=True \n",
    "))\n",
    "\n",
    "model.add(Bidirectional(LSTM(64, return_sequences=True, dropout=0.2, recurrent_dropout=0.2)))\n",
    "model.add(Bidirectional(LSTM(64, dropout=0.2, recurrent_dropout=0.2)))\n",
    "model.add(Dense(1, activation=\"sigmoid\"))\n",
    "\n",
    "model.compile(optimizer=\"adam\", loss=\"binary_crossentropy\", metrics=[\"accuracy\"])\n",
    "model.summary()\n"
   ]
  },
  {
   "cell_type": "markdown",
   "metadata": {},
   "source": [
    "monitor: The metric to monitor for early stopping. In this case, it's set to \"val_accuracy,\" which means it monitors the validation accuracy.\n",
    "patience: The number of epochs with no improvement after which training will be stopped. If the validation accuracy does not improve for three consecutive epochs (patience=3), training will stop.\n",
    "restore_best_weights: If set to True, the model weights will be restored to the best values observed during training.\n",
    "\n",
    " trains the model using the training data (X_train, y_train) and validates on the test data (X_test, y_test). The training process is configured to run for a maximum of 20 epochs, with a batch size of 64.\n",
    "\n",
    "The callbacks parameter is used to include the EarlyStopping callback during training. This means that the training process will monitor the validation accuracy, and if it doesn't improve for three consecutive epochs, training will be stopped, and the model weights will be restored to the best observed values.\n",
    "\n",
    "The training history, including loss and accuracy metrics for each epoch, will be stored in the history variable. This information can be useful for analyzing the model's performance over time and making decisions about further training or model adjustments."
   ]
  },
  {
   "cell_type": "code",
   "execution_count": null,
   "metadata": {
    "ExecuteTime": {
     "end_time": "2023-11-27T17:35:20.304317800Z",
     "start_time": "2023-11-27T17:34:25.562184300Z"
    },
    "colab": {
     "background_save": true,
     "base_uri": "https://localhost:8080/"
    },
    "executionInfo": {
     "elapsed": 58196,
     "status": "ok",
     "timestamp": 1700997803265,
     "user": {
      "displayName": "Thomas Durlacher",
      "userId": "14590206385638367679"
     },
     "user_tz": -60
    },
    "id": "TmOUJt2EU1_G",
    "outputId": "07c10c39-41db-4246-9811-ebbabb00190c"
   },
   "outputs": [],
   "source": [
    "earlyStopping = tf.keras.callbacks.EarlyStopping(monitor=\"val_accuracy\",patience=10,restore_best_weights=False,)\n",
    "\n",
    "history = model.fit(X_train,y_train,validation_data=(X_test,y_test),epochs=10,batch_size=64, callbacks=[earlyStopping])"
   ]
  },
  {
   "cell_type": "markdown",
   "metadata": {},
   "source": [
    "# Model Evaluation"
   ]
  },
  {
   "cell_type": "code",
   "execution_count": null,
   "metadata": {
    "ExecuteTime": {
     "end_time": "2023-11-27T17:35:20.311879500Z",
     "start_time": "2023-11-27T17:35:20.304317800Z"
    },
    "colab": {
     "background_save": true
    },
    "id": "xW6H4h4cU15l"
   },
   "outputs": [],
   "source": [
    "df = pd.DataFrame(history.history)\n",
    "df_loss = df[['loss', 'val_loss']]\n",
    "df_acc =  df[['accuracy', 'val_accuracy']]"
   ]
  },
  {
   "cell_type": "code",
   "execution_count": null,
   "metadata": {
    "ExecuteTime": {
     "end_time": "2023-11-27T17:35:20.535483100Z",
     "start_time": "2023-11-27T17:35:20.306837200Z"
    },
    "colab": {
     "background_save": true
    },
    "id": "oFYYl6m4U1sR",
    "outputId": "84bc86ea-3625-4992-e079-7d7e017612fd"
   },
   "outputs": [],
   "source": [
    "import matplotlib.pyplot as plt\n",
    "import seaborn as sns\n",
    "import warnings\n",
    "warnings.filterwarnings('ignore')\n",
    "\n",
    "# Set Seaborn style\n",
    "sns.set(style=\"whitegrid\", palette=\"muted\", font_scale=1.2)\n",
    "\n",
    "# Create a figure with two subplots\n",
    "fig, axes = plt.subplots(nrows=1, ncols=2, figsize=(14, 6))\n",
    "\n",
    "# Plot loss\n",
    "sns.lineplot(data=df_loss, ax=axes[0], linewidth=2.5, palette=['blue', 'orange'])\n",
    "axes[0].set_title('Training and Validation Loss')\n",
    "axes[0].set_xlabel('Epoch')\n",
    "axes[0].set_ylabel('Loss')\n",
    "axes[0].legend(['Training Loss', 'Validation Loss'])\n",
    "\n",
    "# Plot accuracy\n",
    "sns.lineplot(data=df_acc, ax=axes[1], linewidth=2.5, palette=['blue', 'orange'])\n",
    "axes[1].set_title('Training and Validation Accuracy')\n",
    "axes[1].set_xlabel('Epoch')\n",
    "axes[1].set_ylabel('Accuracy')\n",
    "axes[1].legend(['Training Accuracy', 'Validation Accuracy'])\n",
    "\n",
    "plt.show()\n"
   ]
  },
  {
   "cell_type": "markdown",
   "metadata": {},
   "source": [
    "Training Loss vs. Validation Loss:\n",
    "\n",
    "Training Loss: This is the loss calculated on the training data during each epoch of training. It represents how well the model is fitting the training data.\n",
    "Validation Loss: This is the loss calculated on a separate validation dataset (not used during training) during each epoch. It indicates how well the model is generalizing to new, unseen data.\n",
    "Relationship:\n",
    "\n",
    "In an ideal scenario, both training and validation loss decrease during training, indicating that the model is learning from the data and generalizing well. However, if the training loss continues to decrease while the validation loss starts to increase, it may indicate overfitting, where the model is memorizing the training data but not generalizing well to new data.\n",
    "Training Accuracy vs. Validation Accuracy:\n",
    "\n",
    "Training Accuracy: This is the accuracy calculated on the training data during each epoch. It represents the proportion of correctly classified instances in the training set.\n",
    "Validation Accuracy: This is the accuracy calculated on the validation dataset during each epoch. It indicates the model's ability to correctly classify instances in new, unseen data.\n",
    "Relationship:\n",
    "\n",
    "Similar to loss, in an ideal scenario, both training and validation accuracy increase during training. However, if the training accuracy is significantly higher than the validation accuracy, it may indicate overfitting."
   ]
  },
  {
   "cell_type": "markdown",
   "metadata": {},
   "source": [
    "Calculates a confusion matrix based on binary predictions from the model and visualizes it using a heatmap. The confusion matrix helps in assessing the performance of the model by showing the counts of true positives, true negatives, false positives, and false negatives.\n"
   ]
  },
  {
   "cell_type": "code",
   "execution_count": null,
   "metadata": {
    "ExecuteTime": {
     "end_time": "2023-11-27T17:35:22.596510600Z",
     "start_time": "2023-11-27T17:35:20.535483100Z"
    },
    "colab": {
     "background_save": true
    },
    "id": "3h0vS_GeU1f0",
    "outputId": "f81eacb7-46ba-45bb-f510-92faa23e7b45"
   },
   "outputs": [],
   "source": [
    "import numpy as np\n",
    "from sklearn.metrics import confusion_matrix, classification_report\n",
    "import seaborn as sns\n",
    "import matplotlib.pyplot as plt\n",
    "import pandas as pd\n",
    "import tensorflow as tf\n",
    "from tensorflow.keras.models import Sequential\n",
    "from tensorflow.keras.layers import Embedding, Bidirectional, LSTM, Dropout, Dense\n",
    "\n",
    "\n",
    "y_pred_probs = model.predict(X_test)\n",
    "y_pred = (y_pred_probs > 0.5).astype('int32') \n",
    "\n",
    "if len(y_test.shape) == 1:\n",
    "    y_test = np.expand_dims(y_test, axis=1)\n",
    "    \n",
    "y_test_int = np.argmax(y_test, axis=1)\n",
    "\n",
    "conf_matrix = confusion_matrix(y_test_int, y_pred)\n",
    "\n",
    "plt.figure(figsize=(8, 6))\n",
    "sns.heatmap(conf_matrix, annot=True, fmt='d', cmap='Blues', cbar=False,\n",
    "            xticklabels=['Not Fake', 'Fake'],\n",
    "            yticklabels=['Not Fake', 'Fake'])\n",
    "plt.title('Confusion Matrix')\n",
    "plt.xlabel('Predicted')\n",
    "plt.ylabel('True')\n",
    "plt.show()\n"
   ]
  },
  {
   "cell_type": "markdown",
   "metadata": {},
   "source": [
    "TP (True Positive): News articles correctly identified as fake.\n",
    "TN (True Negative): News articles correctly identified as not fake.\n",
    "FP (False Positive): News articles incorrectly identified as fake.\n",
    "FN (False Negative): News articles incorrectly identified as not fake."
   ]
  },
  {
   "cell_type": "markdown",
   "metadata": {},
   "source": [
    "# Conclusion"
   ]
  },
  {
   "cell_type": "markdown",
   "metadata": {},
   "source": [
    "In conclusion, this paper has delved into the realm of fake news detection, employing LSTM (Long Short-Term Memory) models as a sophisticated tool for this task. The investigation has revealed promising results in terms of accuracy, showcasing the model's ability to discern between authentic and deceptive information with a commendable precision.\n",
    "However, a critical observation emerges in the form of overfitting, highlighting a significant challenge in the current model implementation. The overfitting phenomenon is attributed to the scarcity of training data. As the LSTM model tends to memorize patterns within the limited dataset rather than generalizing well to new, unseen data, its performance may not be as robust in real-world scenarios with diverse and evolving information.\n",
    "This revelation underscores the importance of addressing the data limitations to enhance the model's robustness and generalizability. Future endeavors should focus on augmenting the dataset, ensuring a more comprehensive representation of various linguistic nuances and deceptive tactics employed in the dissemination of fake news.\n",
    "Moreover, fine-tuning the hyperparameters and exploring regularization techniques can serve as valuable strategies to mitigate overfitting without compromising the model's high accuracy. Striking a balance between model complexity and the available data will be pivotal in achieving a more resilient and reliable fake news detection system.\n",
    "In essence, while the LSTM models have showcased their prowess in discerning the authenticity of information, the journey towards a more effective and practical solution involves a concerted effort to amass diverse and ample data, coupled with meticulous model optimization. Only through such holistic advancements can we harness the true potential of LSTM models in the relentless pursuit of combating fake news in the digital landscape."
   ]
  }
 ],
 "metadata": {
  "colab": {
   "authorship_tag": "ABX9TyPAcHKZ2LyCDssv8Y7I7JLL",
   "provenance": [
    {
     "file_id": "1hOHHxvk03y9b3kggTHHnhjTb6fhNItRa",
     "timestamp": 1701001958575
    }
   ]
  },
  "kernelspec": {
   "display_name": "Python 3 (ipykernel)",
   "language": "python",
   "name": "python3"
  },
  "language_info": {
   "codemirror_mode": {
    "name": "ipython",
    "version": 3
   },
   "file_extension": ".py",
   "mimetype": "text/x-python",
   "name": "python",
   "nbconvert_exporter": "python",
   "pygments_lexer": "ipython3",
   "version": "3.11.5"
  }
 },
 "nbformat": 4,
 "nbformat_minor": 4
}
